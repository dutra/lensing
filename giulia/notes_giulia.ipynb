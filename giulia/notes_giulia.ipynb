{
 "cells": [
  {
   "cell_type": "code",
   "execution_count": 2,
   "id": "beb254da-1f97-4df1-85f4-556d077fd0cd",
   "metadata": {},
   "outputs": [],
   "source": [
    "from astropy.cosmology import FlatLambdaCDM\n",
    "import astropy.io.fits as pyfits\n",
    "import matplotlib.pyplot as plt\n",
    "import numpy as np\n",
    "from numpy import fft, pi"
   ]
  },
  {
   "cell_type": "markdown",
   "id": "6df066cc-d5f3-42da-8b53-038b3ef07973",
   "metadata": {},
   "source": [
    "## Calculate distance\n",
    "- for Abell 2744\n",
    "- redshift z = 0.308\n",
    "- 1,221 Mpc/h (3,982 Mly)"
   ]
  },
  {
   "cell_type": "code",
   "execution_count": 3,
   "id": "7e5e7506-6c8f-4599-8467-5d1ffd46cad2",
   "metadata": {},
   "outputs": [
    {
     "name": "stdout",
     "output_type": "stream",
     "text": [
      "Kpc/arcsec at z=0.308 4.5356240737371705\n",
      "<class 'astropy.units.quantity.Quantity'>\n",
      "Mpc/h at z=0.308: 16.328246665453815\n"
     ]
    }
   ],
   "source": [
    "cosmo_flat = FlatLambdaCDM(H0=70.0, Om0=0.3, Tcmb0=2.7255)\n",
    "z = 0.308\n",
    "scale = cosmo_flat.kpc_proper_per_arcmin(z)\n",
    "ang_r=(scale.value/60)\n",
    "print('Kpc/arcsec at z=0.308',ang_r)\n",
    "print(type(scale))\n",
    "ang_Mpc_h = scale.value*60/1000\n",
    "print(f\"Mpc/h at {z=}: {ang_Mpc_h}\")"
   ]
  },
  {
   "cell_type": "code",
   "execution_count": 23,
   "id": "fa9d2d18-0261-4067-b9ea-6e78234cfe2b",
   "metadata": {},
   "outputs": [],
   "source": [
    "# Open Image\n",
    "kappa,header=pyfits.getdata('kappa_2.fits',header=True)\n",
    "#print(header)\n",
    "#for k,v in header.items():\n",
    "#    print(f\"{k}: {v}\")"
   ]
  },
  {
   "cell_type": "code",
   "execution_count": 4,
   "id": "df1bdc6a-81d2-4dc3-b556-3922f1ebf736",
   "metadata": {},
   "outputs": [
    {
     "name": "stdout",
     "output_type": "stream",
     "text": [
      "SIMPLE: True\n",
      "BITPIX: -64\n",
      "NAXIS: 2\n",
      "NAXIS1: 1000\n",
      "NAXIS2: 1000\n",
      "COMMENT:   FITS (Flexible Image Transport System) format is defined in 'Astronomy\n",
      "COMMENT:   and Astrophysics', volume 376, page 359; bibcode: 2001A&A...376..359H\n",
      "EQUINOX: 2000.0\n",
      "RADECSYS: FK5\n",
      "CTYPE1: RA---TAN\n",
      "CRVAL1: 3.586259\n",
      "CRPIX1: 500.5\n",
      "CDELT1: -0.000278055833611389\n",
      "CUNIT1: deg\n",
      "CTYPE2: DEC--TAN\n",
      "CRVAL2: -30.400174\n",
      "CRPIX2: 500.5\n",
      "CDELT2: 0.000278055833611389\n",
      "CUNIT2: deg\n",
      "ORIGIN: JPK-SOFT\n",
      "DATE: 2016-02-07T22:23:42\n"
     ]
    }
   ],
   "source": [
    "# Open Image\n",
    "data_mass,header=pyfits.getdata('meanmass.fits',header=True)\n",
    "for k,v in header.items():\n",
    "    print(f\"{k}: {v}\")\n",
    "\n",
    "#The 'meanmass.fits' is a surface density map (M_sun/kpc^2) in units of 10^12 M_sun\n",
    "#To make it dimensionless you can devide by Sigma_crit=(c^2/4piG)*D_os*D_ol/D_ls, the critical surface mass \n",
    "#density \n",
    "ecf_mass=1e12\n",
    "sigma_crit=2.35e09\n",
    "\n",
    "data_mass=data_mass*ecf_mass/sigma_crit\n",
    "average_mass=np.average(data_mass)\n",
    "fluctuation_mass=data_mass-average_mass"
   ]
  },
  {
   "cell_type": "code",
   "execution_count": 5,
   "id": "9026aa89-62d5-41d6-a339-f04c7a073dab",
   "metadata": {},
   "outputs": [
    {
     "name": "stdout",
     "output_type": "stream",
     "text": [
      "(1000, 1000)\n"
     ]
    }
   ],
   "source": [
    "# Useful to mask point sources in X-Ray analysis\n",
    "data_mask_chandra=np.ones((header['NAXIS1'],header['NAXIS2']),dtype=float)\n",
    "print(data_mask_chandra.shape)"
   ]
  },
  {
   "cell_type": "code",
   "execution_count": 6,
   "id": "ff7351d6-a14a-45b4-9944-6e37a678a61d",
   "metadata": {},
   "outputs": [],
   "source": [
    "# pixel size in arc\n",
    "pixel_size = header['CDELT2']*3600.0"
   ]
  },
  {
   "cell_type": "code",
   "execution_count": 8,
   "id": "49d0c06f-10c2-42ff-ba87-e365f1d51d3d",
   "metadata": {},
   "outputs": [],
   "source": [
    "ster2sqdeg = 3282.8\n",
    "sqdeg2ster = (2*pi/360)**2\n",
    "arcsec2deg = 1/(60*60)"
   ]
  },
  {
   "cell_type": "code",
   "execution_count": 1,
   "id": "27cb4293-5615-4d1c-a70f-459268001ee8",
   "metadata": {},
   "outputs": [
    {
     "ename": "NameError",
     "evalue": "name 'np' is not defined",
     "output_type": "error",
     "traceback": [
      "\u001b[0;31m---------------------------------------------------------------------------\u001b[0m",
      "\u001b[0;31mNameError\u001b[0m                                 Traceback (most recent call last)",
      "Input \u001b[0;32mIn [1]\u001b[0m, in \u001b[0;36m<cell line: 2>\u001b[0;34m()\u001b[0m\n\u001b[1;32m      1\u001b[0m \u001b[38;5;66;03m# Angular binning grid\u001b[39;00m\n\u001b[0;32m----> 2\u001b[0m tet_1grid_old \u001b[38;5;241m=\u001b[39m \u001b[43mnp\u001b[49m\u001b[38;5;241m.\u001b[39mappend((\u001b[38;5;241m0.1\u001b[39m\u001b[38;5;241m+\u001b[39m\u001b[38;5;241m10\u001b[39m\u001b[38;5;241m*\u001b[39m\u001b[38;5;241m*\u001b[39m(\u001b[38;5;241m.065\u001b[39m\u001b[38;5;241m*\u001b[39mnp\u001b[38;5;241m.\u001b[39marange(\u001b[38;5;241m50\u001b[39m))), \u001b[38;5;241m1533.0\u001b[39m)\n\u001b[1;32m      3\u001b[0m \u001b[38;5;28mprint\u001b[39m(tet_1grid_old)\n\u001b[1;32m      4\u001b[0m tet_1grid_new\u001b[38;5;241m=\u001b[39mnp\u001b[38;5;241m.\u001b[39mzeros(\u001b[38;5;241m24\u001b[39m,dtype\u001b[38;5;241m=\u001b[39m\u001b[38;5;28mfloat\u001b[39m)\n",
      "\u001b[0;31mNameError\u001b[0m: name 'np' is not defined"
     ]
    }
   ],
   "source": [
    "# Angular binning grid\n",
    "tet_1grid_old = np.append((0.1+10**(.065*np.arange(50))), 1533.0)\n",
    "print(tet_1grid_old)\n",
    "tet_1grid_new=np.zeros(24,dtype=float)\n",
    "tet_1grid_new[0]=3.41131121e+00 \n",
    "tet_1grid_new[1]=7.09841996e+00 \n",
    "tet_1grid_new[2]=1.10647820e+01 \n",
    "tet_1grid_new[3]=1.48910839e+01 \n",
    "tet_1grid_new[4]=1.72790839e+01\n",
    "tet_1grid_new[5:22]=tet_1grid_old[20:37]\n",
    "tet_1grid_new[22]=3.98207171e+02 \n",
    "tet_1grid_new[23]=1.53300000e+03\n",
    "tet_1grid=np.zeros(24,dtype=float)\n",
    "tet_1grid=tet_1grid_new"
   ]
  },
  {
   "cell_type": "markdown",
   "id": "971f993d-4ce2-4c19-9ede-5cfaeb40b703",
   "metadata": {},
   "source": [
    "## auto_power_obs\n",
    "- compute 2d fft \n",
    "`fft.fft2(data_obj)/data_obj.size`\n",
    "- shift fft zero frequency to center of spectrum\n",
    "`amp = fft.fftshift(del_flux_fft)`\n",
    "- compute auto power spectrum\n",
    "`ps2d = np.abs(amp)**2`\n"
   ]
  },
  {
   "cell_type": "code",
   "execution_count": 21,
   "id": "12a9b0e5-3681-40b4-8dd5-a2e429a1cd83",
   "metadata": {},
   "outputs": [
    {
     "name": "stdout",
     "output_type": "stream",
     "text": [
      "ps2d [[3.14235564e-08 6.07097057e-07 2.28697296e-07 ... 2.31625913e-07\n",
      "  2.28697296e-07 6.07097057e-07]\n",
      " [2.26745647e-07 1.06483181e-07 3.95142193e-07 ... 2.42251513e-07\n",
      "  5.09330073e-07 6.46765947e-08]\n",
      " [1.15956640e-07 3.13258108e-07 1.03884981e-06 ... 1.41580758e-08\n",
      "  3.24590805e-07 1.68302349e-07]\n",
      " ...\n",
      " [2.11450055e-08 2.56243968e-07 8.98965703e-08 ... 4.22665811e-07\n",
      "  8.61756036e-07 1.32593798e-07]\n",
      " [1.15956640e-07 1.68302349e-07 3.24590805e-07 ... 1.23208117e-07\n",
      "  1.03884981e-06 3.13258108e-07]\n",
      " [2.26745647e-07 6.46765947e-08 5.09330073e-07 ... 1.89986279e-07\n",
      "  3.95142193e-07 1.06483181e-07]]\n",
      "k_minmax after binning = [9.09090909e-01 7.92739386e-01 6.90148804e-01 5.99969616e-01\n",
      " 5.20914493e-01 4.51775447e-01 3.91434028e-01 3.38866083e-01\n",
      " 2.93142413e-01 2.53426464e-01 2.18969986e-01 1.89107399e-01\n",
      " 1.63249425e-01 1.40876421e-01 1.21531710e-01 1.04815115e-01\n",
      " 9.03768374e-02 7.79117725e-02 6.71542789e-02 5.78734386e-02\n",
      " 4.98687874e-02 4.29664990e-02 3.70159954e-02 3.18869481e-02\n",
      " 2.74666376e-02 2.36576360e-02 2.03757774e-02 1.75483874e-02\n",
      " 1.51127384e-02 1.30147075e-02 1.12076094e-02 9.65118525e-03\n",
      " 8.31072515e-03 7.15630916e-03 6.16215047e-03 5.30602755e-03\n",
      " 4.56879355e-03 3.93395255e-03 3.38729380e-03 2.91657612e-03\n",
      " 2.51125563e-03 2.16225089e-03 1.86174046e-03 1.60298839e-03\n",
      " 1.38019374e-03 1.18836099e-03 1.02318829e-03 8.80971255e-04\n",
      " 7.58520035e-04 6.53087897e-04 6.52315721e-04]\n",
      "monotonically increasing k_minmax = [6.52315721e-04 6.53087897e-04 7.58520035e-04 8.80971255e-04\n",
      " 1.02318829e-03 1.18836099e-03 1.38019374e-03 1.60298839e-03\n",
      " 1.86174046e-03 2.16225089e-03 2.51125563e-03 2.91657612e-03\n",
      " 3.38729380e-03 3.93395255e-03 4.56879355e-03 5.30602755e-03\n",
      " 6.16215047e-03 7.15630916e-03 8.31072515e-03 9.65118525e-03\n",
      " 1.12076094e-02 1.30147075e-02 1.51127384e-02 1.75483874e-02\n",
      " 2.03757774e-02 2.36576360e-02 2.74666376e-02 3.18869481e-02\n",
      " 3.70159954e-02 4.29664990e-02 4.98687874e-02 5.78734386e-02\n",
      " 6.71542789e-02 7.79117725e-02 9.03768374e-02 1.04815115e-01\n",
      " 1.21531710e-01 1.40876421e-01 1.63249425e-01 1.89107399e-01\n",
      " 2.18969986e-01 2.53426464e-01 2.93142413e-01 3.38866083e-01\n",
      " 3.91434028e-01 4.51775447e-01 5.20914493e-01 5.99969616e-01\n",
      " 6.90148804e-01 7.92739386e-01 9.09090909e-01]\n"
     ]
    }
   ],
   "source": [
    "# compute fov area in steradians\n",
    "(nx, ny) = fluctuation_mass.shape\n",
    "area = float(nx)*float(ny)*(pixel_size*arcsec2deg)**2.0*sqdeg2ster\n",
    "\n",
    "# compute fft normalized\n",
    "flux_fft = fft.fft2(fluctuation_mass)/fluctuation_mass.size\n",
    "amp = fft.fftshift(flux_fft)\n",
    "\n",
    "# Auto power spectrum\n",
    "ps2d = np.abs(amp)**2\n",
    "print(\"ps2d\", ps2d)\n",
    "\n",
    "# Fourier space bins in arcsec^-1; tet_1grid in arcsecs\n",
    "k_minmax = 1.0 /tet_1grid\n",
    "print (\"k_minmax after binning =\",k_minmax)\n",
    "# make bins monotonically increasing for azimuthal_averaging\n",
    "k_minmax = k_minmax[::-1]\n",
    "print (\"monotonically increasing k_minmax =\",k_minmax)\n"
   ]
  },
  {
   "cell_type": "code",
   "execution_count": 36,
   "id": "f867581e-0fba-47a3-baa5-ea7aab3b663e",
   "metadata": {},
   "outputs": [
    {
     "name": "stdout",
     "output_type": "stream",
     "text": [
      "shape (1000, 1000)\n",
      "y=\n",
      " [[0.       0.       0.       ... 0.       0.       0.      ]\n",
      " [0.000999 0.000999 0.000999 ... 0.000999 0.000999 0.000999]\n",
      " [0.001998 0.001998 0.001998 ... 0.001998 0.001998 0.001998]\n",
      " ...\n",
      " [0.996003 0.996003 0.996003 ... 0.996003 0.996003 0.996003]\n",
      " [0.997002 0.997002 0.997002 ... 0.997002 0.997002 0.997002]\n",
      " [0.998001 0.998001 0.998001 ... 0.998001 0.998001 0.998001]]\n",
      "x=\n",
      " [[0.       0.000999 0.001998 ... 0.996003 0.997002 0.998001]\n",
      " [0.       0.000999 0.001998 ... 0.996003 0.997002 0.998001]\n",
      " [0.       0.000999 0.001998 ... 0.996003 0.997002 0.998001]\n",
      " ...\n",
      " [0.       0.000999 0.001998 ... 0.996003 0.997002 0.998001]\n",
      " [0.       0.000999 0.001998 ... 0.996003 0.997002 0.998001]\n",
      " [0.       0.000999 0.001998 ... 0.996003 0.997002 0.998001]]\n",
      "center [0.4990005 0.4990005]\n",
      "r=\n",
      " [[0.70569327 0.70498723 0.70428189 ... 0.70428189 0.70498723 0.70569327]\n",
      " [0.70498723 0.70428048 0.70357443 ... 0.70357443 0.70428048 0.70498723]\n",
      " [0.70428189 0.70357443 0.70286768 ... 0.70286768 0.70357443 0.70428189]\n",
      " ...\n",
      " [0.70428189 0.70357443 0.70286768 ... 0.70286768 0.70357443 0.70428189]\n",
      " [0.70498723 0.70428048 0.70357443 ... 0.70357443 0.70428048 0.70498723]\n",
      " [0.70569327 0.70498723 0.70428189 ... 0.70428189 0.70498723 0.70569327]]\n",
      "bins=\n",
      " [6.52315721e-04 6.53087897e-04 7.58520035e-04 8.80971255e-04\n",
      " 1.02318829e-03 1.18836099e-03 1.38019374e-03 1.60298839e-03\n",
      " 1.86174046e-03 2.16225089e-03 2.51125563e-03 2.91657612e-03\n",
      " 3.38729380e-03 3.93395255e-03 4.56879355e-03 5.30602755e-03\n",
      " 6.16215047e-03 7.15630916e-03 8.31072515e-03 9.65118525e-03\n",
      " 1.12076094e-02 1.30147075e-02 1.51127384e-02 1.75483874e-02\n",
      " 2.03757774e-02 2.36576360e-02 2.74666376e-02 3.18869481e-02\n",
      " 3.70159954e-02 4.29664990e-02 4.98687874e-02 5.78734386e-02\n",
      " 6.71542789e-02 7.79117725e-02 9.03768374e-02 1.04815115e-01\n",
      " 1.21531710e-01 1.40876421e-01 1.63249425e-01 1.89107399e-01\n",
      " 2.18969986e-01 2.53426464e-01 2.93142413e-01 3.38866083e-01\n",
      " 3.91434028e-01 4.51775447e-01 5.20914493e-01 5.99969616e-01\n",
      " 6.90148804e-01 7.92739386e-01 9.09090909e-01]\n",
      "bin_centers=\n",
      " [6.52701809e-04 7.05803966e-04 8.19745645e-04 9.52079773e-04\n",
      " 1.10577464e-03 1.28427737e-03 1.49159107e-03 1.73236443e-03\n",
      " 2.01199568e-03 2.33675326e-03 2.71391588e-03 3.15193496e-03\n",
      " 3.66062317e-03 4.25137305e-03 4.93741055e-03 5.73408901e-03\n",
      " 6.65922981e-03 7.73351715e-03 8.98095520e-03 1.04293973e-02\n",
      " 1.21111584e-02 1.40637229e-02 1.63305629e-02 1.89620824e-02\n",
      " 2.20167067e-02 2.55621368e-02 2.96767929e-02 3.44514718e-02\n",
      " 3.99912472e-02 4.64176432e-02 5.38711130e-02 6.25138588e-02\n",
      " 7.25330257e-02 8.41443049e-02 9.75959759e-02 1.13173412e-01\n",
      " 1.31204066e-01 1.52062923e-01 1.76178412e-01 2.04038693e-01\n",
      " 2.36198225e-01 2.73284438e-01 3.16004248e-01 3.65150055e-01\n",
      " 4.21604737e-01 4.86344970e-01 5.60442055e-01 6.45059210e-01\n",
      " 7.41444095e-01 8.50915148e-01]\n"
     ]
    },
    {
     "ename": "NameError",
     "evalue": "name 'image' is not defined",
     "output_type": "error",
     "traceback": [
      "\u001b[0;31m---------------------------------------------------------------------------\u001b[0m",
      "\u001b[0;31mNameError\u001b[0m                                 Traceback (most recent call last)",
      "Input \u001b[0;32mIn [36]\u001b[0m, in \u001b[0;36m<cell line: 18>\u001b[0;34m()\u001b[0m\n\u001b[1;32m     15\u001b[0m \u001b[38;5;28mprint\u001b[39m (\u001b[38;5;124m\"\u001b[39m\u001b[38;5;124mbin_centers=\u001b[39m\u001b[38;5;130;01m\\n\u001b[39;00m\u001b[38;5;124m\"\u001b[39m,bin_centers)\n\u001b[1;32m     16\u001b[0m nr \u001b[38;5;241m=\u001b[39m np\u001b[38;5;241m.\u001b[39mhistogram(r,bins)[\u001b[38;5;241m0\u001b[39m]\n\u001b[0;32m---> 18\u001b[0m radial_prof \u001b[38;5;241m=\u001b[39m np\u001b[38;5;241m.\u001b[39mhistogram(r, bins, weights\u001b[38;5;241m=\u001b[39m\u001b[43mimage\u001b[49m)[\u001b[38;5;241m0\u001b[39m] \u001b[38;5;241m/\u001b[39m np\u001b[38;5;241m.\u001b[39mhistogram(r, bins)[\u001b[38;5;241m0\u001b[39m]\n\u001b[1;32m     20\u001b[0m \u001b[38;5;28;01mreturn\u001b[39;00m nr, bin_centers, radial_prof\n",
      "\u001b[0;31mNameError\u001b[0m: name 'image' is not defined"
     ]
    },
    {
     "data": {
      "image/png": "[encoded data removed]",
      "text/plain": [
       "<Figure size 288x288 with 1 Axes>"
      ]
     },
     "metadata": {
      "needs_background": "light"
     },
     "output_type": "display_data"
    }
   ],
   "source": [
    "# azimuthal_average\n",
    "scale = 1.0/(pixel_size*nx)\n",
    "bins = k_minmax\n",
    "print(\"shape\",ps2d.shape)\n",
    "y, x = np.indices(ps2d.shape)*float(scale)\n",
    "print(\"y=\\n\",y)\n",
    "print(\"x=\\n\",x)\n",
    "center = np.array([(x.max()-x.min())/2.0, (y.max()-y.min())/2.0])\n",
    "print (\"center\",center)\n",
    "r = np.hypot(x - center[0], y - center[1])\n",
    "print (\"r=\\n\",r)\n",
    "plt.matshow(r)\n",
    "bin_centers = 0.5*(bins[1:]+bins[:-1])\n",
    "print(\"bins=\\n\",bins)\n",
    "print (\"bin_centers=\\n\",bin_centers)\n",
    "nr = np.histogram(r,bins)[0]\n",
    "\n",
    "\n",
    "radial_prof = np.histogram(r, bins, weights=image)[0] / np.histogram(r, bins)[0]\n",
    "\n",
    "return nr, bin_centers, radial_prof\n"
   ]
  },
  {
   "cell_type": "code",
   "execution_count": null,
   "id": "af37c090-c109-465e-8abc-0a16b23c4e03",
   "metadata": {},
   "outputs": [],
   "source": []
  }
 ],
 "metadata": {
  "kernelspec": {
   "display_name": "Python 3 (ipykernel)",
   "language": "python",
   "name": "python3"
  },
  "language_info": {
   "codemirror_mode": {
    "name": "ipython",
    "version": 3
   },
   "file_extension": ".py",
   "mimetype": "text/x-python",
   "name": "python",
   "nbconvert_exporter": "python",
   "pygments_lexer": "ipython3",
   "version": "3.10.5"
  }
 },
 "nbformat": 4,
 "nbformat_minor": 5
}
