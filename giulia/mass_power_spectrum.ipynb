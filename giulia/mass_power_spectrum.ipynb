{
 "cells": [
  {
   "cell_type": "code",
   "execution_count": 1,
   "metadata": {},
   "outputs": [],
   "source": [
    "import numpy as np\n",
    "import matplotlib.pyplot\n",
    "import matplotlib.pyplot as plt\n",
    "matplotlib.rc(\"font\", size=18)\n",
    "from astropy.cosmology import FlatLambdaCDM\n",
    "import power_spectrum  #FOR THE COMPUTATION OF THE AUTO POWER SPECTRUM AND CROSS POWER SPECTRUM\n",
    "from astropy.wcs import WCS\n",
    "import astropy.io.fits as pyfits\n",
    "from astropy import wcs\n",
    "import numpy.ma as ma\n",
    "from scipy import ndimage\n",
    "from numpy import fft\n",
    "import math"
   ]
  },
  {
   "cell_type": "code",
   "execution_count": 2,
   "metadata": {},
   "outputs": [],
   "source": [
    "arcsec2rad = math.pi/(180.0*3600.0)\n",
    "ster2sqdeg = 3282.8\n",
    "ster2sqarcmin = ster2sqdeg * 3600.0\n",
    "ster2sqarcsec = ster2sqdeg * 3600.0 * 3600.0"
   ]
  },
  {
   "cell_type": "markdown",
   "metadata": {},
   "source": [
    "### CONVERSION FROM ANGULAR DISTANCE TO PROJECTED DISTANCE"
   ]
  },
  {
   "cell_type": "code",
   "execution_count": 3,
   "metadata": {},
   "outputs": [
    {
     "name": "stdout",
     "output_type": "stream",
     "text": [
      "Kpc/arcsec at z=0.308 4.5356240737371705\n"
     ]
    }
   ],
   "source": [
    "if __name__ == '__main__':    \n",
    "    \n",
    "    cosmo_flat = FlatLambdaCDM(H0=70.0, Om0=0.3, Tcmb0=2.7255)\n",
    "    z=0.308\n",
    "    scale = cosmo_flat.kpc_proper_per_arcmin(z)\n",
    "    #print(scale.value/60)\n",
    "    ang_r=(scale.value/60)\n",
    "    print('Kpc/arcsec at z=0.308',ang_r)"
   ]
  },
  {
   "cell_type": "markdown",
   "metadata": {},
   "source": [
    "### OPEN IMAGES"
   ]
  },
  {
   "cell_type": "code",
   "execution_count": 4,
   "metadata": {},
   "outputs": [
    {
     "name": "stdout",
     "output_type": "stream",
     "text": [
      "SIMPLE  =                    T / conforms to FITS standard                      BITPIX  =                  -64 / array data type                                NAXIS   =                    2 / number of array dimensions                     NAXIS1  =                 1000                                                  NAXIS2  =                 1000                                                  COMMENT   FITS (Flexible Image Transport System) format is defined in 'AstronomyCOMMENT   and Astrophysics', volume 376, page 359; bibcode: 2001A&A...376..359H EQUINOX =                2000. / EQUINOX                                        RADECSYS= 'FK5     '           / RADECSYS                                       CTYPE1  = 'RA---TAN'           / CTYPE1                                         CRVAL1  =             3.586259 / CRVAL1                                         CRPIX1  =                500.5 / CRPIX1                                         CDELT1  = -0.000278055833611389 / CDELT1                                        CUNIT1  = 'deg     '           / CUNIT1                                         CTYPE2  = 'DEC--TAN'           / CTYPE2                                         CRVAL2  =           -30.400174 / CRVAL2                                         CRPIX2  =                500.5 / CRPIX2                                         CDELT2  = 0.000278055833611389 / CDELT2                                         CUNIT2  = 'deg     '           / CUNIT2                                         ORIGIN  = 'JPK-SOFT'           / ORIGIN                                         DATE    = '2016-02-07T22:23:42' / file creation date (YYYY-MM-DDThh:mm:ss UT)   END                                                                                                                                                                                                                                                                                                                                                                                                                                                                                                                                                                                                                                                                                                                                                                                                                                                                                                                                                                                                                                                                                                                                                                                                                                             \n"
     ]
    }
   ],
   "source": [
    "hdu_list_mass=pyfits.open('meanmass.fits')\n",
    "header_mass = pyfits.getheader('meanmass.fits')\n",
    "\n",
    "data_mass=hdu_list_mass[0].data\n",
    "\n",
    "print(header_mass)"
   ]
  },
  {
   "cell_type": "code",
   "execution_count": 5,
   "metadata": {},
   "outputs": [
    {
     "name": "stdout",
     "output_type": "stream",
     "text": [
      "(1000, 1000)\n"
     ]
    }
   ],
   "source": [
    "#THE MASK IS USED IN THE X-RAY ANALYSIS, IT ALLOWS YOU TO MASK THE POINT SOURCES WHEN YOU ARE INTERESTED IN\n",
    "#THE STUDY OF THE DIFFUSE GAS; IN THIS CASE YOU DON'T NEED IT, SO I DEFINE A MATRIX OF ONES, IN ORDER TO USE \n",
    "#THE SCRIPT power_spectrum.py WITHOUT CHANGING IT.\n",
    "data_mask_chandra=np.ones((header_mass['NAXIS1'],header_mass['NAXIS2']),dtype=float)\n",
    "print(data_mask_chandra.shape)"
   ]
  },
  {
   "cell_type": "code",
   "execution_count": 6,
   "metadata": {},
   "outputs": [
    {
     "name": "stdout",
     "output_type": "stream",
     "text": [
      "pixel size in arcsec 1.0010010010010004\n"
     ]
    }
   ],
   "source": [
    "#PIXEL SIZE IN ARCSEC\n",
    "pixel=header_mass['CDELT2']*3600.0\n",
    "print('pixel size in arcsec',pixel)"
   ]
  },
  {
   "cell_type": "code",
   "execution_count": 7,
   "metadata": {},
   "outputs": [
    {
     "name": "stdout",
     "output_type": "stream",
     "text": [
      "average_mass 1.4836724008494835\n"
     ]
    }
   ],
   "source": [
    "#The 'meanmass.fits' is a surface density map (M_sun/kpc^2) in units of 10^12 M_sun\n",
    "#To make it dimensionless you can devide by Sigma_crit=(c^2/4piG)*D_os*D_ol/D_ls, the critical surface mass \n",
    "#density \n",
    "ecf_mass=1e12\n",
    "sigma_crit=2.35e09\n",
    "\n",
    "data_mass=data_mass*ecf_mass/sigma_crit\n",
    "average_mass=np.average(data_mass)\n",
    "print('average_mass',average_mass)"
   ]
  },
  {
   "cell_type": "markdown",
   "metadata": {},
   "source": [
    "### FLUCTUATION FIELD"
   ]
  },
  {
   "cell_type": "code",
   "execution_count": 8,
   "metadata": {},
   "outputs": [],
   "source": [
    "field_mass=data_mass-average_mass\n",
    "#field_mass=(data_mass-average_mass)/average_mass #FLUCTUATION RELATIVE TO THE BACKGROUND MEAN DENSITY"
   ]
  },
  {
   "cell_type": "markdown",
   "metadata": {},
   "source": [
    "### ANGULAR BINNING"
   ]
  },
  {
   "cell_type": "code",
   "execution_count": 9,
   "metadata": {},
   "outputs": [
    {
     "name": "stdout",
     "output_type": "stream",
     "text": [
      "[1.10000000e+00 1.26144861e+00 1.44896288e+00 1.66675107e+00\n",
      " 1.91970086e+00 2.21348904e+00 2.55470892e+00 2.95101827e+00\n",
      " 3.41131121e+00 3.94591782e+00 4.56683592e+00 5.28800039e+00\n",
      " 6.12559586e+00 7.09841996e+00 8.22830516e+00 9.54060876e+00\n",
      " 1.10647820e+01 1.28350308e+01 1.48910839e+01 1.72790839e+01\n",
      " 2.00526231e+01 2.32739465e+01 2.70153480e+01 3.13607937e+01\n",
      " 3.64078055e+01 4.22696503e+01 4.90778819e+01 5.69852931e+01\n",
      " 6.61693448e+01 7.68361489e+01 8.92250938e+01 1.03614217e+02\n",
      " 1.20326443e+02 1.39736836e+02 1.62281010e+02 1.88464909e+02\n",
      " 2.18876162e+02 2.54197271e+02 2.95220923e+02 3.42867787e+02\n",
      " 3.98207171e+02 4.62481021e+02 5.37131796e+02 6.23834835e+02\n",
      " 7.24535960e+02 8.41495142e+02 9.77337221e+02 1.13511082e+03\n",
      " 1.31835674e+03 1.53118746e+03 1.53300000e+03]\n",
      "[   3.41131121    7.09841996   11.064782     14.8910839    17.2790839\n",
      "   20.05262315   23.2739465    27.01534804   31.36079367   36.40780548\n",
      "   42.26965034   49.07788194   56.98529308   66.1693448    76.83614894\n",
      "   89.22509381  103.61421667  120.32644346  139.73683611  162.28100974\n",
      "  188.46490895  218.87616239  398.207171   1533.        ]\n"
     ]
    }
   ],
   "source": [
    "# bin edges in arcsecs\n",
    "#ADAPTIVE BINNING (they have been rearranged in order to optimize the ps errors; in addition, their separation \n",
    "#must be higher than, at least, 3 or 4 times the pixel size)\n",
    "\n",
    "tet_1grid_old = np.append((0.1+10**(.065*np.arange(50))), 1533.0)\n",
    "print(tet_1grid_old)\n",
    "tet_1grid_new=np.zeros(24,dtype=float)\n",
    "tet_1grid_new[0]=3.41131121e+00 \n",
    "tet_1grid_new[1]=7.09841996e+00 \n",
    "tet_1grid_new[2]=1.10647820e+01 \n",
    "tet_1grid_new[3]=1.48910839e+01 \n",
    "tet_1grid_new[4]=1.72790839e+01\n",
    "tet_1grid_new[5:22]=tet_1grid_old[20:37]\n",
    "tet_1grid_new[22]=3.98207171e+02 \n",
    "tet_1grid_new[23]=1.53300000e+03\n",
    "tet_1grid=np.zeros(24,dtype=float)\n",
    "tet_1grid=tet_1grid_new\n",
    "print(tet_1grid)"
   ]
  },
  {
   "cell_type": "markdown",
   "metadata": {},
   "source": [
    "### MASS POWER SPECTRUM"
   ]
  },
  {
   "cell_type": "code",
   "execution_count": 10,
   "metadata": {},
   "outputs": [
    {
     "name": "stdout",
     "output_type": "stream",
     "text": [
      "FOV in steradian = 2.3551555563946764e-05\n",
      "fraction of unmasked area = 1.0\n",
      "k_minmax after binning = [0.29314241 0.14087642 0.09037684 0.06715428 0.05787344 0.04986879\n",
      " 0.0429665  0.037016   0.03188695 0.02746664 0.02365764 0.02037578\n",
      " 0.01754839 0.01511274 0.01301471 0.01120761 0.00965119 0.00831073\n",
      " 0.00715631 0.00616215 0.00530603 0.00456879 0.00251126 0.00065232]\n",
      "monotonically increasing k_minmax = [0.00065232 0.00251126 0.00456879 0.00530603 0.00616215 0.00715631\n",
      " 0.00831073 0.00965119 0.01120761 0.01301471 0.01511274 0.01754839\n",
      " 0.02037578 0.02365764 0.02746664 0.03188695 0.037016   0.0429665\n",
      " 0.04986879 0.05787344 0.06715428 0.09037684 0.14087642 0.29314241]\n",
      "y,x = [[0.       0.       0.       ... 0.       0.       0.      ]\n",
      " [0.000999 0.000999 0.000999 ... 0.000999 0.000999 0.000999]\n",
      " [0.001998 0.001998 0.001998 ... 0.001998 0.001998 0.001998]\n",
      " ...\n",
      " [0.996003 0.996003 0.996003 ... 0.996003 0.996003 0.996003]\n",
      " [0.997002 0.997002 0.997002 ... 0.997002 0.997002 0.997002]\n",
      " [0.998001 0.998001 0.998001 ... 0.998001 0.998001 0.998001]] [[0.       0.000999 0.001998 ... 0.996003 0.997002 0.998001]\n",
      " [0.       0.000999 0.001998 ... 0.996003 0.997002 0.998001]\n",
      " [0.       0.000999 0.001998 ... 0.996003 0.997002 0.998001]\n",
      " ...\n",
      " [0.       0.000999 0.001998 ... 0.996003 0.997002 0.998001]\n",
      " [0.       0.000999 0.001998 ... 0.996003 0.997002 0.998001]\n",
      " [0.       0.000999 0.001998 ... 0.996003 0.997002 0.998001]]\n",
      "center [0.4990005 0.4990005]\n",
      "r [[0.70569327 0.70498723 0.70428189 ... 0.70428189 0.70498723 0.70569327]\n",
      " [0.70498723 0.70428048 0.70357443 ... 0.70357443 0.70428048 0.70498723]\n",
      " [0.70428189 0.70357443 0.70286768 ... 0.70286768 0.70357443 0.70428189]\n",
      " ...\n",
      " [0.70428189 0.70357443 0.70286768 ... 0.70286768 0.70357443 0.70428189]\n",
      " [0.70498723 0.70428048 0.70357443 ... 0.70357443 0.70428048 0.70498723]\n",
      " [0.70569327 0.70498723 0.70428189 ... 0.70428189 0.70498723 0.70569327]]\n",
      "bin_centers [0.00158179 0.00354002 0.00493741 0.00573409 0.00665923 0.00773352\n",
      " 0.00898096 0.0104294  0.01211116 0.01406372 0.01633056 0.01896208\n",
      " 0.02201671 0.02556214 0.02967679 0.03445147 0.03999125 0.04641764\n",
      " 0.05387111 0.06251386 0.07876556 0.11562663 0.21700942]\n"
     ]
    }
   ],
   "source": [
    "#COMPUTING THE AUTO POWER SPECTRUM\n",
    "(k_p_mass, pairs_mass, amp_mass, power_mass, sig_p_mass) = \\\n",
    "power_spectrum.auto_power_obs ( field_mass, data_mask_chandra, \\\n",
    "                               tet_1grid, pixel, outfile = None, writefits = None )\n",
    "\n",
    "theta_mass = 1/k_p_mass\n",
    "q_p_mass = 2.0*np.pi*k_p_mass\n",
    "q_rad_mass = q_p_mass/arcsec2rad\n",
    "power_q_mass = power_mass*q_rad_mass**2/(2.0*math.pi) \n",
    "sig_p_q_mass = sig_p_mass*q_rad_mass**2/(2.0*math.pi)"
   ]
  },
  {
   "cell_type": "code",
   "execution_count": 11,
   "metadata": {},
   "outputs": [
    {
     "data": {
      "image/png": "[encoded data removed]",
      "text/plain": [
       "<Figure size 432x288 with 1 Axes>"
      ]
     },
     "metadata": {
      "needs_background": "light"
     },
     "output_type": "display_data"
    }
   ],
   "source": [
    "plt.plot(theta_mass, pairs_mass, 'o')\n",
    "plt.show()"
   ]
  },
  {
   "cell_type": "code",
   "execution_count": 12,
   "metadata": {},
   "outputs": [
    {
     "name": "stdout",
     "output_type": "stream",
     "text": [
      "[632.19689975 282.48391331 202.5353146  174.39561856 150.16751608\n",
      " 129.30727119 111.34673066  95.88281746  82.56848478  71.1049275\n",
      "  61.23487627  52.7368238   45.42005366  39.12036024  33.69636351\n",
      "  29.02633614  25.00547167  21.54353239  18.56282422  15.99645297\n",
      "  12.69590448   8.64852679   4.60809495]\n"
     ]
    }
   ],
   "source": [
    "print(theta_mass)"
   ]
  },
  {
   "cell_type": "code",
   "execution_count": 13,
   "metadata": {},
   "outputs": [
    {
     "data": {
      "image/png": "[encoded data removed]",
      "text/plain": [
       "<Figure size 720x720 with 1 Axes>"
      ]
     },
     "metadata": {
      "needs_background": "light"
     },
     "output_type": "display_data"
    }
   ],
   "source": [
    "fig = plt.figure(figsize=(10,10))\n",
    "plt.xscale('log')\n",
    "plt.yscale('log')\n",
    "plt.plot(theta_mass, power_mass, 'o')\n",
    "plt.xlabel(r'$\\theta$ arcsec')\n",
    "plt.ylabel(r'$P_\\kappa(\\theta) $')\n",
    "plt.tight_layout()\n",
    "plt.show()\n",
    "#fig.savefig('abell2744_power_theta.jpeg')\n",
    "#pylab.show()"
   ]
  },
  {
   "cell_type": "code",
   "execution_count": 14,
   "metadata": {},
   "outputs": [
    {
     "name": "stderr",
     "output_type": "stream",
     "text": [
      "/var/folders/s5/j1skk77s5438zsn0d72mwdrm0000gn/T/ipykernel_72387/2022114760.py:4: UserWarning: This figure includes Axes that are not compatible with tight_layout, so results might be incorrect.\n",
      "  fig_mass.tight_layout()\n"
     ]
    },
    {
     "data": {
      "image/png": "[encoded data removed]",
      "text/plain": [
       "<Figure size 720x720 with 1 Axes>"
      ]
     },
     "metadata": {
      "needs_background": "light"
     },
     "output_type": "display_data"
    }
   ],
   "source": [
    "fig_mass = matplotlib.pyplot.figure( figsize=(10,10) )\n",
    "ax = fig_mass.add_axes([0.18,0.16,0.75,0.75])\n",
    "ax.errorbar(theta_mass, power_mass, yerr =sig_p_mass, color='C0', fmt='o')\n",
    "fig_mass.tight_layout()\n",
    "ax.set_xlabel(r'$2\\pi/q$ $[arcsec]$')\n",
    "ax.set_ylabel(r'$P_M(q) $')\n",
    "ax.set_xscale('log')\n",
    "ax.set_yscale('log')\n",
    "\n",
    "def arcsec2dist(theta_ang):\n",
    "    return (scale.value/60)*theta_ang\n",
    "\n",
    "def dist2arcsec(theta_ang):\n",
    "    return (theta_ang*60/(scale.value))\n",
    "\n",
    "secax = ax.secondary_xaxis('top', functions=(arcsec2dist,dist2arcsec))\n",
    "secax.set_xlabel('Distance [Kpc]')\n",
    "\n",
    "ax.title.set_text('MASS AUTO-POWER SPECTRUM')"
   ]
  },
  {
   "cell_type": "code",
   "execution_count": 15,
   "metadata": {},
   "outputs": [
    {
     "name": "stderr",
     "output_type": "stream",
     "text": [
      "/var/folders/s5/j1skk77s5438zsn0d72mwdrm0000gn/T/ipykernel_72387/2045505525.py:13: UserWarning: This figure includes Axes that are not compatible with tight_layout, so results might be incorrect.\n",
      "  fig_mass2.tight_layout()\n"
     ]
    },
    {
     "name": "stdout",
     "output_type": "stream",
     "text": [
      "(3.602922101421853, 808.5723924286702)\n",
      "(0.09120854396955308, 4.817770706717263)\n"
     ]
    },
    {
     "data": {
      "image/png": "[encoded data removed]",
      "text/plain": [
       "<Figure size 720x720 with 1 Axes>"
      ]
     },
     "metadata": {
      "needs_background": "light"
     },
     "output_type": "display_data"
    }
   ],
   "source": [
    "mass_smooth=ndimage.gaussian_filter1d(power_q_mass, sigma=0.8)\n",
    "\n",
    "y1 = mass_smooth + sig_p_q_mass\n",
    "y2 = mass_smooth - sig_p_q_mass\n",
    "\n",
    "fig_mass2 = matplotlib.pyplot.figure( figsize=(10,10) )\n",
    "ax = fig_mass2.add_axes([0.18,0.16,0.75,0.75])\n",
    "ax.plot(theta_mass, mass_smooth, 'or')\n",
    "ax.plot(theta_mass, mass_smooth, color='C0')\n",
    "ax.fill_between(theta_mass, y1, y2,alpha=0.3)\n",
    "#ax1.set_title('fill between y1 and y2')\n",
    "#ax1.set_xlabel('x')\n",
    "fig_mass2.tight_layout()\n",
    "#fig8, axs = plt.subplots(1,2,figsize=(10,6))\n",
    "#ax1.plot(theta, power_q_mass2, color='C0', label=r'CATS mass auto-power')\n",
    "ax.set_xlabel(r'$2\\pi/q$ $[arcsec]$')\n",
    "ax.set_ylabel(r'$q^2P(q)/2\\pi $')\n",
    "ax.set_xscale('log')\n",
    "ax.set_yscale('log')\n",
    "#ax1.legend(loc='best')\n",
    "\n",
    "secax = ax.secondary_xaxis('top', functions=(arcsec2dist,dist2arcsec))\n",
    "secax.set_xlabel('Distance [Kpc]')\n",
    "\n",
    "ax.title.set_text('MASS AUTO-POWER SPECTRUM')\n",
    "print(ax.get_xlim())\n",
    "print(ax.get_ylim())"
   ]
  },
  {
   "cell_type": "code",
   "execution_count": null,
   "metadata": {},
   "outputs": [],
   "source": []
  }
 ],
 "metadata": {
  "kernelspec": {
   "display_name": "Python 3 (ipykernel)",
   "language": "python",
   "name": "python3"
  },
  "language_info": {
   "codemirror_mode": {
    "name": "ipython",
    "version": 3
   },
   "file_extension": ".py",
   "mimetype": "text/x-python",
   "name": "python",
   "nbconvert_exporter": "python",
   "pygments_lexer": "ipython3",
   "version": "3.9.12"
  }
 },
 "nbformat": 4,
 "nbformat_minor": 4
}
