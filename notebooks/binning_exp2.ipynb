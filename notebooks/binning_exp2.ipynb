{
 "cells": [
  {
   "cell_type": "code",
   "execution_count": 1,
   "id": "6b90cd95-9258-4f2f-a5a4-17147275c6fc",
   "metadata": {},
   "outputs": [],
   "source": [
    "import numpy as np\n",
    "from numpy import fft as fft\n",
    "from matplotlib import pyplot as plt\n",
    "import astropy.io.fits as pyfits"
   ]
  },
  {
   "cell_type": "code",
   "execution_count": 22,
   "id": "a7a67d52-927b-4fcf-91af-d77da65185e3",
   "metadata": {},
   "outputs": [
    {
     "name": "stdout",
     "output_type": "stream",
     "text": [
      "b=0.11872854175700039\n",
      "c=1.3144030002813458\n",
      "theta_mid [1.00000000e+00 1.31440300e+00 1.72765525e+00 2.27083524e+00\n",
      " 2.98479265e+00 3.92322042e+00 5.15669269e+00 6.77797234e+00\n",
      " 8.90898718e+00 1.17099995e+01 1.53916585e+01 2.02308420e+01\n",
      " 2.65914795e+01 3.49519204e+01 4.59409091e+01 6.03848687e+01\n",
      " 7.93700526e+01 1.04324235e+02 1.37124088e+02 1.80236312e+02\n",
      " 2.36903150e+02 3.11386211e+02 4.09286970e+02 5.37968021e+02\n",
      " 7.07106781e+02 9.29423275e+02 1.22163674e+03 1.60572300e+03\n",
      " 2.11056713e+03 2.77413576e+03 3.64633237e+03 4.79275021e+03\n",
      " 6.29960525e+03 8.28022004e+03 1.08835461e+04]\n",
      "theta [5.0, 9.0, 13.5, 17.74444050379817, 23.32334583650615, 30.65627574410312, 40.294700815501386, 52.963475647334214, 69.61535129618409, 153.153772851605, 336.938300273531, 774.9580906291212]\n",
      "(5, 4)\n",
      "[  0.           2.58078472   3.35502014   9.70375055  19.02554497\n",
      "  18.73632726  30.89799089  34.3415058   51.40948439  61.30187439\n",
      "  86.84627375 135.37594847 264.62405153]\n"
     ]
    }
   ],
   "source": [
    "def check_kbins(kbins):\n",
    "    for i, k in enumerate(kbins):\n",
    "        for j, l in enumerate(kbins[:i]):\n",
    "            if k < l:\n",
    "                return (i, j)\n",
    "    return None\n",
    "\n",
    "def build_theta_avg(R, n, m):\n",
    "    b = np.log10(R)/m\n",
    "    print(f\"{b=}\")\n",
    "    c = 10**b\n",
    "    print(f\"{c=}\")\n",
    "    theta_mid = 10**(b*np.arange(n+10+1))\n",
    "    print(\"theta_mid\", theta_mid)\n",
    "    thetaa = []\n",
    "    thetaa.append(5.0)\n",
    "    thetaa.append(thetaa[0]*1.8)\n",
    "    thetaa.append(thetaa[1]*1.5)\n",
    "    \n",
    "    theta = thetaa[-1]\n",
    "    while theta <= R/(2.2*2.2*2.2):\n",
    "        theta *= c\n",
    "        thetaa.append(theta)\n",
    "\n",
    "    thetaa.append(thetaa[-1]*2.2)\n",
    "    thetaa.append(thetaa[-1]*2.2)\n",
    "    thetaa.append(thetaa[-1]*2.3)\n",
    "    \n",
    "\n",
    "    print(\"theta\", thetaa)\n",
    "    return np.array(thetaa)\n",
    "\n",
    "def build_kbins(thetaa):\n",
    "    thetaa = np.flip(thetaa)\n",
    "    kbins = np.zeros(thetaa.size+1)\n",
    "    kbins[0] = 0.0\n",
    "    for i in range(0, thetaa.size):\n",
    "        kbins[i+1] = 2.0/thetaa[i] - kbins[i]\n",
    "    return kbins\n",
    "\n",
    "x = 1000\n",
    "R = np.hypot(x/2.0, x/2.0)\n",
    "\n",
    "theta_avg = build_theta_avg(R, 24, 24)\n",
    "kbins = build_kbins(theta_avg)\n",
    "print(check_kbins(kbins))\n",
    "print(kbins*x)"
   ]
  },
  {
   "cell_type": "code",
   "execution_count": 58,
   "id": "b1d39996-bac9-4480-97e6-14b6330eebc1",
   "metadata": {},
   "outputs": [
    {
     "name": "stdout",
     "output_type": "stream",
     "text": [
      "R 707.1067811865476\n",
      "b=0.10007923043569086\n",
      "c=1.2591551045765728\n",
      "kbins [   0.            5.005         7.93528524    9.99175492   12.58116921\n",
      "   15.84164344   19.9470862    25.11647541   31.62553822   39.82145788\n",
      "   50.14139197   63.13578965   79.49775181  100.1         126.04142597\n",
      "  158.7057049   199.83509845  251.62338428  316.83286875  398.94172398\n",
      "  502.32950818  632.5107644   796.4291577  1002.82783935 1262.71579293]\n",
      "theta_vals [  0.88367312   1.11268151   1.40103861   1.76412492   2.22130689\n",
      "   2.79696991   3.52181894   4.4345163    5.58374383   7.03079955\n",
      "   8.85286714  11.14713286  14.03596924  17.67346231  22.25363028\n",
      "  28.02077217  35.28249831  44.42613785  55.93939825  70.43637885\n",
      "  88.69032598 111.67487669 154.71065453 400.        ]\n"
     ]
    }
   ],
   "source": [
    "def build_kbins(R, n, m):\n",
    "    b = np.log10(R)/m\n",
    "    print(f\"{b=}\")\n",
    "    c = 10**b\n",
    "    print(f\"{c=}\")\n",
    "\n",
    "    kbins = [0, 2.0/R]\n",
    "    kbins.append(kbins[-1]*c*c)\n",
    "    \n",
    "    for i in range(n-2):\n",
    "        kbins.append(kbins[-1]*c)\n",
    "    return np.array(kbins)\n",
    "\n",
    "def build_theta_vals(kbins):\n",
    "    kvals = 0.5*(kbins[1:]+kbins[:-1])\n",
    "    theta_vals = 1.0/kvals\n",
    "    theta_vals = np.flip(theta_vals)\n",
    "    return theta_vals\n",
    "\n",
    "x = 1000\n",
    "R = np.hypot(x/2.0, x/2.0)\n",
    "print(\"R\", R)\n",
    "kbins = build_kbins(400, 24, 26)\n",
    "print(\"kbins\", kbins*1001)\n",
    "\n",
    "theta_vals = build_theta_vals(kbins)\n",
    "print(\"theta_vals\", theta_vals)"
   ]
  },
  {
   "cell_type": "code",
   "execution_count": 59,
   "id": "e46cc100-a671-429b-8d21-a4546c20299b",
   "metadata": {},
   "outputs": [
    {
     "data": {
      "image/png": "[encoded data removed]",
      "text/plain": [
       "<Figure size 432x288 with 1 Axes>"
      ]
     },
     "metadata": {
      "needs_background": "light"
     },
     "output_type": "display_data"
    },
    {
     "name": "stdout",
     "output_type": "stream",
     "text": [
      "nr [    81    112    112    192    296    452    748   1156   1824   2920\n",
      "   4648   7320  11612  18436  29228  46296  73472 116448 184632 292186\n",
      " 184620  23209      0      0]\n",
      "400.00 : 81\n",
      "154.71 : 112\n",
      "111.67 : 112\n",
      "88.69 : 192\n",
      "70.44 : 296\n",
      "55.94 : 452\n",
      "44.43 : 748\n",
      "35.28 : 1156\n",
      "28.02 : 1824\n",
      "22.25 : 2920\n",
      "17.67 : 4648\n",
      "14.04 : 7320\n",
      "11.15 : 11612\n",
      "8.85 : 18436\n",
      "7.03 : 29228\n",
      "5.58 : 46296\n",
      "4.43 : 73472\n",
      "3.52 : 116448\n",
      "2.80 : 184632\n",
      "2.22 : 292186\n",
      "1.76 : 184620\n",
      "1.40 : 23209\n",
      "1.11 : 0\n",
      "0.88 : 0\n"
     ]
    }
   ],
   "source": [
    "kfreq = fft.fftfreq(x)*x\n",
    "kfreq = fft.fftshift(kfreq)\n",
    "kfreq2D = np.meshgrid(kfreq, kfreq)\n",
    "\n",
    "# take the norm of the wave vectors\n",
    "kfreq_norm = np.sqrt(kfreq2D[0]**2 + kfreq2D[1]**2)\n",
    "\n",
    "kbins_s = kbins*1001\n",
    "\n",
    "nr = np.histogram(kfreq_norm.flatten(),kbins_s)[0]\n",
    "rbin_center = 0.5*(kbins[1:]+kbins[:-1])\n",
    "theta_center = 1.0/rbin_center\n",
    "plt.plot(theta_center, nr, 'o')\n",
    "plt.ylim(0, np.max(nr)*1.2)\n",
    "plt.show()\n",
    "\n",
    "print(\"nr\", nr)\n",
    "\n",
    "for t, n in zip(theta_center, nr):\n",
    "    print(f\"{t:0.2f} : {n}\")\n"
   ]
  },
  {
   "cell_type": "code",
   "execution_count": null,
   "id": "29be3e75-28ff-4327-bb03-d9fcce772571",
   "metadata": {},
   "outputs": [],
   "source": []
  }
 ],
 "metadata": {
  "kernelspec": {
   "display_name": "Python 3 (ipykernel)",
   "language": "python",
   "name": "python3"
  },
  "language_info": {
   "codemirror_mode": {
    "name": "ipython",
    "version": 3
   },
   "file_extension": ".py",
   "mimetype": "text/x-python",
   "name": "python",
   "nbconvert_exporter": "python",
   "pygments_lexer": "ipython3",
   "version": "3.10.5"
  }
 },
 "nbformat": 4,
 "nbformat_minor": 5
}
